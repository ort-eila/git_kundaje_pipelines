{
 "cells": [
  {
   "cell_type": "code",
   "execution_count": null,
   "metadata": {},
   "outputs": [],
   "source": [
    "# TODO: make sure that your machine has CPU and storage. Fasterq-dump uses 6 threads as default"
   ]
  },
  {
   "cell_type": "code",
   "execution_count": null,
   "metadata": {},
   "outputs": [],
   "source": [
    "# !mkdir /home/jupyter/eila/"
   ]
  },
  {
   "cell_type": "code",
   "execution_count": null,
   "metadata": {},
   "outputs": [],
   "source": [
    "# !wget -P /home/jupyter/eila/ https://ftp-trace.ncbi.nlm.nih.gov/sra/sdk/3.0.5/sratoolkit.3.0.5-ubuntu64.tar.gz"
   ]
  },
  {
   "cell_type": "code",
   "execution_count": null,
   "metadata": {},
   "outputs": [],
   "source": [
    "# !tar -xvzf /home/jupyter/eila/sratoolkit.3.0.5-ubuntu64.tar.gz -C /home/jupyter/eila/"
   ]
  },
  {
   "cell_type": "code",
   "execution_count": null,
   "metadata": {},
   "outputs": [],
   "source": [
    "# !ls /home/jupyter/eila/sratoolkit.3.0.5-ubuntu64/bin"
   ]
  },
  {
   "cell_type": "code",
   "execution_count": null,
   "metadata": {},
   "outputs": [],
   "source": [
    "# this is the execution from the command line\n",
    "\n",
    "# jupyter nbconvert --execute --clear-output download_gse_data.ipynb --stdout"
   ]
  },
  {
   "cell_type": "code",
   "execution_count": null,
   "metadata": {},
   "outputs": [],
   "source": [
    "# !pip install biopython"
   ]
  },
  {
   "cell_type": "code",
   "execution_count": null,
   "metadata": {},
   "outputs": [],
   "source": [
    "## TODO: run the below command once /home/jupyter/.ncbi/user-settings.mkfg -\n",
    "# !/home/jupyter/eila/sratoolkit.3.0.5-ubuntu64/bin/vdb-config --set \"/LIBS/GUID/DEFAULT/caching\"=false"
   ]
  },
  {
   "cell_type": "code",
   "execution_count": null,
   "metadata": {},
   "outputs": [],
   "source": [
    "import subprocess\n",
    "from Bio import Entrez\n",
    "import os\n",
    "import xml.etree.ElementTree as ET\n",
    "import shutil\n",
    "\n",
    "def get_srr_accession_list(gsm_id):\n",
    "    # Search for the GSM ID in the SRA database\n",
    "    handle = Entrez.esearch(db=\"sra\", term=gsm_id)\n",
    "    record = Entrez.read(handle)\n",
    "\n",
    "    # Get the list of SRR accessions from the search results\n",
    "    srr_accessions = record['IdList']\n",
    "\n",
    "    # Fetch the SRR records to get their metadata\n",
    "    handle = Entrez.efetch(db=\"sra\", id=srr_accessions, retmode=\"xml\")\n",
    "    xml_data = handle.read()\n",
    "\n",
    "    # Parse the XML data using ElementTree\n",
    "    root = ET.fromstring(xml_data)\n",
    "\n",
    "    # Extract the SRR from the parsed XML\n",
    "    srr_accessions = []\n",
    "    for run_element in root.findall(\".//RUN\"):\n",
    "      srr = run_element.attrib\n",
    "      srr_accessions.append(srr['accession'])\n",
    "      print(\"srr_accessions is {}\".format(srr_accessions))\n",
    "\n",
    "    return srr_accessions\n",
    "\n",
    "# Provide your email address to the Entrez API\n",
    "# TODO1: change it to your email\n",
    "Entrez.email = \"name@example.edu\"\n",
    "# TODO2:\n",
    "# Set your GSE ID. Line 44 on gSheet was downloaded\n",
    "gse_id_list = [\"GSE175621\",\n",
    "               \"GSE214979\", #subset of the single cell\n",
    "               \"GSE147672\"]\n",
    "\n",
    "# TODO3:\n",
    "# Set your project_name:\n",
    "project_name = [\"clint-miller_human_coronary-artery_scatac\", \n",
    "                \"BrainAlzheimer10XMultiome\",\n",
    "                \"HealthyBrainAdult_snATAC\"]\n",
    "                \n",
    "\n",
    "for index, gse_id in enumerate(gse_id_list):\n",
    "    \n",
    "  # Search for the GSE ID in the GEO database\n",
    "  handle = Entrez.esearch(db=\"gds\", term=gse_id)\n",
    "  record = Entrez.read(handle)\n",
    "\n",
    "  # Fetch the GSE record using the retrieved ID\n",
    "  gse_record = record[\"IdList\"][0]\n",
    "  handle = Entrez.esummary(db=\"gds\", id=gse_record)\n",
    "  gse_summary = Entrez.read(handle)[0]\n",
    "\n",
    "  # Extract the GSM IDs from the GSE record\n",
    "  gsm_ids_objects = gse_summary[\"Samples\"]\n",
    "\n",
    "  gsm_ids = [gsm_id[\"Accession\"] for gsm_id in gsm_ids_objects]\n",
    "  # Print the list of GSM IDs\n",
    "  print(\"gsm_ids is {}\".format(gsm_ids))\n",
    "\n",
    "  # Specify the cloud storage directory path\n",
    "  # TODO: if you are intereted in coping the data to gs bucket\n",
    "  cloud_directory = \"gs://fc-secure-0a879173-62d3-4c3a-8fc3-e35ee4248901/FASTQ/{}/\".format(project_name[index])\n",
    "\n",
    "  # Iterate over the GSM IDs\n",
    "  for gsm_id in gsm_ids:\n",
    "    print('gsm_id is {}'.format(gsm_id))\n",
    "    \n",
    "    \n",
    "    # TODO: check this for single cell explanation and select the right flags: https://github.com/ncbi/sra-tools/issues/418\n",
    "    srr_accessions = get_srr_accession_list(gsm_id)\n",
    "    print('srr_accessions is {}'.format(srr_accessions))\n",
    "    \n",
    "    \n",
    "    for srr in srr_accessions:\n",
    "      cloud_directory_gsm = os.path.join(cloud_directory,gsm_id)\n",
    "      print('cloud_directory_gsm is {}'.format(cloud_directory_gsm))\n",
    "        \n",
    "      cloud_directory_gsm_srr = os.path.join(cloud_directory_gsm,srr)\n",
    "      print('cloud_directory_gsm_srr is {}'.format(cloud_directory_gsm_srr))\n",
    "      ls_output_gs_srr = !gsutil ls $cloud_directory_gsm_srr\n",
    "      print('ls_output_gs_srr is {}'.format(ls_output_gs_srr))\n",
    "      if \"CommandException\" in ls_output_gs_srr[0]:\n",
    "        local_directory_srr = os.path.join(\"/home/jupyter/eila/\",gse_id,gsm_id,srr)\n",
    "        print('local_directory_srr is {}'.format(local_directory_srr))\n",
    "        os.makedirs(local_directory_srr, exist_ok=True)\n",
    "#         fasterq-dump does not take multiple accessions, just one\n",
    "        cmd = [\"/home/jupyter/eila/sratoolkit.3.0.5-ubuntu64/bin/fasterq-dump\",srr,\"--split-files\",\"--progress\",\"--include-technical\",\"--outdir\", local_directory_srr]\n",
    "        print(\"Download cmd is {}\".format(cmd))\n",
    "        subprocess.run(cmd)\n",
    "        # TODO: if you are not interested in copying to GS. remove these lines\n",
    "        print(\"calling gsutil -m cp -r {} {}\".format(local_directory_srr,cloud_directory_gsm))\n",
    "        !gsutil -m cp -r $local_directory_srr $cloud_directory_gsm\n",
    "        print(\"finished gsutil\")\n",
    "        # TODO: if you are not interested in deleting the local copy after copying.remove these lines\n",
    "        shutil.rmtree(local_directory_srr,ignore_errors=True)\n",
    "        print(\"deleted {}\".format(local_directory_srr))\n"
   ]
  },
  {
   "cell_type": "code",
   "execution_count": 38,
   "metadata": {},
   "outputs": [
    {
     "name": "stdout",
     "output_type": "stream",
     "text": [
      "total 59925560\r\n",
      "-rw-rw-r-- 1 jupyter users 14608989848 Jun 29 22:32 SRR14664711_1.fastq\r\n",
      "-rw-rw-r-- 1 jupyter users 14760152872 Jun 29 22:32 SRR14664711_3.fastq\r\n",
      "-rw-rw-r-- 1 jupyter users 16056594760 Jun 29 22:32 SRR14664711_2.fastq\r\n",
      "-rw-rw-r-- 1 jupyter users 15937970488 Jun 29 22:32 SRR14664711_4.fastq\r\n",
      "drwxrwxr-x 2 jupyter users        4096 Jun 29 21:58 .\r\n",
      "drwxrwxr-x 3 jupyter users        4096 Jun 29 21:02 ..\r\n"
     ]
    }
   ],
   "source": [
    "!ls -lta /home/jupyter/eila/GSE175621/GSM5342819/SRR14664711\n"
   ]
  },
  {
   "cell_type": "code",
   "execution_count": 41,
   "metadata": {},
   "outputs": [
    {
     "name": "stdout",
     "output_type": "stream",
     "text": [
      "total 74304372\r\n",
      "-rw-rw-r-- 1 jupyter users 28903203168 Jun 29 22:40 SRR21834811_4.fastq\r\n",
      "-rw-rw-r-- 1 jupyter users 17864631656 Jun 29 22:18 SRR21834811_3.fastq\r\n",
      "-rw-rw-r-- 1 jupyter users 14659885088 Jun 29 22:10 SRR21834811_2.fastq\r\n",
      "-rw-rw-r-- 1 jupyter users 14659885088 Jun 29 22:10 SRR21834811_1.fastq\r\n",
      "drwxrwxr-x 2 jupyter users        4096 Jun 29 21:25 .\r\n",
      "drwxrwxr-x 3 jupyter users        4096 Jun 29 20:58 ..\r\n"
     ]
    }
   ],
   "source": [
    "!ls -lta /home/jupyter/eila/GSE214979/GSM6619558/SRR21834811\n"
   ]
  },
  {
   "cell_type": "code",
   "execution_count": null,
   "metadata": {},
   "outputs": [],
   "source": [
    "# gse_id_list[-]"
   ]
  },
  {
   "cell_type": "code",
   "execution_count": 34,
   "metadata": {},
   "outputs": [
    {
     "name": "stdout",
     "output_type": "stream",
     "text": [
      "84\r\n"
     ]
    }
   ],
   "source": [
    "!ls fasterq.tmp.* | wc -l"
   ]
  },
  {
   "cell_type": "code",
   "execution_count": 37,
   "metadata": {},
   "outputs": [
    {
     "name": "stdout",
     "output_type": "stream",
     "text": [
      "83\r\n"
     ]
    }
   ],
   "source": [
    "!ls fasterq.tmp.* | wc -l"
   ]
  },
  {
   "cell_type": "code",
   "execution_count": null,
   "metadata": {},
   "outputs": [],
   "source": []
  }
 ],
 "metadata": {
  "kernelspec": {
   "display_name": "Python 3 (ipykernel)",
   "language": "python",
   "name": "python3"
  },
  "language_info": {
   "codemirror_mode": {
    "name": "ipython",
    "version": 3
   },
   "file_extension": ".py",
   "mimetype": "text/x-python",
   "name": "python",
   "nbconvert_exporter": "python",
   "pygments_lexer": "ipython3",
   "version": "3.7.12"
  },
  "toc": {
   "base_numbering": 1,
   "nav_menu": {},
   "number_sections": true,
   "sideBar": true,
   "skip_h1_title": false,
   "title_cell": "Table of Contents",
   "title_sidebar": "Contents",
   "toc_cell": false,
   "toc_position": {},
   "toc_section_display": true,
   "toc_window_display": false
  }
 },
 "nbformat": 4,
 "nbformat_minor": 2
}
