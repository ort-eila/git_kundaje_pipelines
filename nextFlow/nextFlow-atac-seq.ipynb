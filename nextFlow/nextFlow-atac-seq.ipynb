{
 "cells": [
  {
   "cell_type": "code",
   "execution_count": 2,
   "id": "a05703ba-d12f-44e3-98a9-c8ffb67b8a88",
   "metadata": {},
   "outputs": [],
   "source": [
    "# nextFlow for Atac-seq"
   ]
  },
  {
   "cell_type": "code",
   "execution_count": 10,
   "id": "56f008c8-b411-4fd8-8289-853f8276db45",
   "metadata": {},
   "outputs": [
    {
     "name": "stdout",
     "output_type": "stream",
     "text": [
      "openjdk version \"11.0.13\" 2021-10-19\n",
      "OpenJDK Runtime Environment JBR-11.0.13.7-1751.21-jcef (build 11.0.13+7-b1751.21)\n",
      "OpenJDK 64-Bit Server VM JBR-11.0.13.7-1751.21-jcef (build 11.0.13+7-b1751.21, mixed mode)\n"
     ]
    }
   ],
   "source": [
    "!java -version\n",
    "# Check that java is installed - if not check your machine guidelines for java installation"
   ]
  },
  {
   "cell_type": "code",
   "execution_count": 11,
   "id": "3204b3fc-c7af-4ddf-8452-0bd97dec78a4",
   "metadata": {},
   "outputs": [],
   "source": [
    "# !wget -qO- https://get.nextflow.io | bash\n"
   ]
  },
  {
   "cell_type": "code",
   "execution_count": 12,
   "id": "9297a0a0-da42-4c99-a55e-908123ec983b",
   "metadata": {},
   "outputs": [
    {
     "name": "stdout",
     "output_type": "stream",
     "text": [
      "/users/eila/git_kundaje/PIPELINES/nextFlow\n"
     ]
    }
   ],
   "source": [
    "# !sudo mv nextflow /usr/local/bin - will not work on the kali without admin password. so call the nextFlow from the local directory\n",
    "!pwd"
   ]
  },
  {
   "cell_type": "code",
   "execution_count": 13,
   "id": "7bbffee7-1514-43bd-bd31-47e57ef334f2",
   "metadata": {},
   "outputs": [],
   "source": [
    "# update java on the terminal\n",
    "# conda install -c bioconda java-jdk"
   ]
  },
  {
   "cell_type": "code",
   "execution_count": 14,
   "id": "6b3d7f92-42e6-4566-8133-056a19ff7e9f",
   "metadata": {},
   "outputs": [
    {
     "name": "stdout",
     "output_type": "stream",
     "text": [
      "openjdk version \"11.0.13\" 2021-10-19\n",
      "OpenJDK Runtime Environment JBR-11.0.13.7-1751.21-jcef (build 11.0.13+7-b1751.21)\n",
      "OpenJDK 64-Bit Server VM JBR-11.0.13.7-1751.21-jcef (build 11.0.13+7-b1751.21, mixed mode)\n"
     ]
    }
   ],
   "source": [
    "!java -version"
   ]
  },
  {
   "cell_type": "code",
   "execution_count": 15,
   "id": "7e05af7f-4e4b-4e9a-9ebc-3823b3d50f17",
   "metadata": {},
   "outputs": [
    {
     "name": "stdout",
     "output_type": "stream",
     "text": [
      "  Version: 23.04.2 build 5870\n",
      "  Created: 08-06-2023 08:29 UTC (01:29 PDT)\n",
      "  System: Linux 4.15.0-180-generic\n",
      "  Runtime: Groovy 3.0.16 on OpenJDK 64-Bit Server VM 11.0.13+7-b1751.21\n",
      "  Encoding: UTF-8 (UTF-8)\n",
      "\n"
     ]
    }
   ],
   "source": [
    "!./nextflow info"
   ]
  },
  {
   "cell_type": "code",
   "execution_count": 16,
   "id": "803178b9-3675-47bd-9693-5ab25ea7740e",
   "metadata": {},
   "outputs": [],
   "source": [
    "# !echo $JAVA_HOME\n"
   ]
  },
  {
   "cell_type": "code",
   "execution_count": null,
   "id": "a1476bda-7bc8-4e64-90e1-77b72ab554b6",
   "metadata": {},
   "outputs": [],
   "source": []
  }
 ],
 "metadata": {
  "kernelspec": {
   "display_name": "Python 3 (ipykernel)",
   "language": "python",
   "name": "python3"
  },
  "language_info": {
   "codemirror_mode": {
    "name": "ipython",
    "version": 3
   },
   "file_extension": ".py",
   "mimetype": "text/x-python",
   "name": "python",
   "nbconvert_exporter": "python",
   "pygments_lexer": "ipython3",
   "version": "3.10.11"
  }
 },
 "nbformat": 4,
 "nbformat_minor": 5
}
