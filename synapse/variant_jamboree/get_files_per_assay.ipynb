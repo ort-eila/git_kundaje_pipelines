{
 "cells": [
  {
   "cell_type": "markdown",
   "id": "95f6f713-b774-4443-9d42-6499fc7fc64e",
   "metadata": {},
   "source": [
    "install synapse client\n",
    "- conda install -c bioconda synapseclient\n",
    "if import fires error, install\n",
    "- pip install synapseclient\n"
   ]
  },
  {
   "cell_type": "code",
   "execution_count": 16,
   "id": "864aa937-088f-46f6-8ae1-88f5756419e8",
   "metadata": {},
   "outputs": [],
   "source": [
    "import os\n",
    "# https://python-docs.synapse.org/build/html/Credentials.html#use-synapseconfig\n",
    "os.environ['SYNAPSE_AUTH_TOKEN']='USE YOUR TOKEN'"
   ]
  },
  {
   "cell_type": "code",
   "execution_count": 17,
   "id": "41b71431-a6c1-4433-a924-04060f4aab77",
   "metadata": {},
   "outputs": [
    {
     "name": "stdout",
     "output_type": "stream",
     "text": [
      "Welcome, eila!\n",
      "\n"
     ]
    }
   ],
   "source": [
    "import synapseclient\n",
    "import synapseutils\n",
    "import os\n",
    "import csv\n",
    "\n",
    "token = os.environ.get('SYNAPSE_AUTH_TOKEN')\n",
    "\n",
    "import synapseclient\n",
    "syn = synapseclient.login(authToken=token)"
   ]
  },
  {
   "cell_type": "code",
   "execution_count": 29,
   "id": "04955724-6d20-4546-baee-e58c873ed6e8",
   "metadata": {},
   "outputs": [],
   "source": [
    "# Specify the list of dataset IDs\n",
    "\n",
    "dataset_ids = [\"syn51704970\",\"syn51704970\",\"syn51704970\",\"syn51704970\",\"syn51704970\",\"syn38984091\",\"syn38984091\",\"syn51704970\"]\n"
   ]
  },
  {
   "cell_type": "code",
   "execution_count": 30,
   "id": "b7469f41-a5ba-4b2c-8fa7-dc22548a7c81",
   "metadata": {},
   "outputs": [
    {
     "name": "stdout",
     "output_type": "stream",
     "text": [
      "***dataset_id is syn51704970\n",
      "***files for dataset_id is syn51704970 are <generator object Synapse.getChildren at 0x7f6a2dce5070>\n",
      "***file_data for dataset_id is syn51704970 are []\n",
      "add dataset data  syn51704970\n",
      "***dataset_id is syn51704970\n",
      "***files for dataset_id is syn51704970 are <generator object Synapse.getChildren at 0x7f6a2dce5b60>\n",
      "***file_data for dataset_id is syn51704970 are []\n",
      "add dataset data  syn51704970\n",
      "***dataset_id is syn51704970\n",
      "***files for dataset_id is syn51704970 are <generator object Synapse.getChildren at 0x7f6a2dce5070>\n",
      "***file_data for dataset_id is syn51704970 are []\n",
      "add dataset data  syn51704970\n",
      "***dataset_id is syn51704970\n",
      "***files for dataset_id is syn51704970 are <generator object Synapse.getChildren at 0x7f6a2dce5b60>\n",
      "***file_data for dataset_id is syn51704970 are []\n",
      "add dataset data  syn51704970\n",
      "***dataset_id is syn51704970\n",
      "***files for dataset_id is syn51704970 are <generator object Synapse.getChildren at 0x7f6a2dce5070>\n",
      "***file_data for dataset_id is syn51704970 are []\n",
      "add dataset data  syn51704970\n",
      "***dataset_id is syn38984091\n",
      "***files for dataset_id is syn38984091 are <generator object Synapse.getChildren at 0x7f6a2dce5b60>\n",
      "file is  {'name': '20200916_hg38_extended_caQTLs_REcontext_and_SLE_haplos_annotated.xlsx', 'id': 'syn38985230', 'type': 'org.sagebionetworks.repo.model.FileEntity', 'versionNumber': 1, 'versionLabel': '1', 'isLatestVersion': True, 'benefactorId': 29543780, 'createdOn': '2022-10-05T01:32:00.431Z', 'modifiedOn': '2022-10-05T01:32:00.431Z', 'createdBy': '3457532', 'modifiedBy': '3457532'}\n",
      "file is  {'name': '20220930_AFR_genotyping', 'id': 'syn50950107', 'type': 'org.sagebionetworks.repo.model.Folder', 'versionNumber': 1, 'versionLabel': '1', 'isLatestVersion': True, 'benefactorId': 29543780, 'createdOn': '2023-01-26T22:05:27.836Z', 'modifiedOn': '2023-01-26T22:05:27.836Z', 'createdBy': '3457734', 'modifiedBy': '3457734'}\n",
      "file is  {'name': '20221111_AA_SLE_data', 'id': 'syn44671138', 'type': 'org.sagebionetworks.repo.model.Folder', 'versionNumber': 1, 'versionLabel': '1', 'isLatestVersion': True, 'benefactorId': 29543780, 'createdOn': '2022-11-11T16:04:01.765Z', 'modifiedOn': '2022-11-11T16:04:01.765Z', 'createdBy': '3457734', 'modifiedBy': '3457734'}\n",
      "file is  {'name': '20230126_scRNA', 'id': 'syn50949540', 'type': 'org.sagebionetworks.repo.model.Folder', 'versionNumber': 1, 'versionLabel': '1', 'isLatestVersion': True, 'benefactorId': 29543780, 'createdOn': '2023-01-26T21:32:07.209Z', 'modifiedOn': '2023-01-26T21:32:07.209Z', 'createdBy': '3457734', 'modifiedBy': '3457734'}\n",
      "file is  {'name': '20230427_caQTL', 'id': 'syn51397384', 'type': 'org.sagebionetworks.repo.model.Folder', 'versionNumber': 1, 'versionLabel': '1', 'isLatestVersion': True, 'benefactorId': 29543780, 'createdOn': '2023-04-27T18:39:09.438Z', 'modifiedOn': '2023-04-27T18:39:09.438Z', 'createdBy': '3457734', 'modifiedBy': '3457734'}\n",
      "file is  {'name': '20230427_genotyping_AFR_EUR_combined', 'id': 'syn51397343', 'type': 'org.sagebionetworks.repo.model.Folder', 'versionNumber': 1, 'versionLabel': '1', 'isLatestVersion': True, 'benefactorId': 29543780, 'createdOn': '2023-04-27T18:09:40.136Z', 'modifiedOn': '2023-04-27T18:09:40.136Z', 'createdBy': '3457734', 'modifiedBy': '3457734'}\n",
      "file is  {'name': '20230427_sciATAC_Fragment_Files_Donor_x_Celltype', 'id': 'syn51397454', 'type': 'org.sagebionetworks.repo.model.Folder', 'versionNumber': 1, 'versionLabel': '1', 'isLatestVersion': True, 'benefactorId': 29543780, 'createdOn': '2023-04-27T19:35:26.551Z', 'modifiedOn': '2023-04-27T19:35:26.551Z', 'createdBy': '3457734', 'modifiedBy': '3457734'}\n",
      "file is  {'name': 'EA_sciATAC_data_hg19', 'id': 'syn38984384', 'type': 'org.sagebionetworks.repo.model.Folder', 'versionNumber': 1, 'versionLabel': '1', 'isLatestVersion': True, 'benefactorId': 29543780, 'createdOn': '2022-10-05T01:24:54.219Z', 'modifiedOn': '2022-10-05T01:24:54.219Z', 'createdBy': '3457532', 'modifiedBy': '3457532'}\n",
      "file is  {'name': 'Footprinting', 'id': 'syn51728361', 'type': 'org.sagebionetworks.repo.model.Folder', 'versionNumber': 1, 'versionLabel': '1', 'isLatestVersion': True, 'benefactorId': 29543780, 'createdOn': '2023-06-19T16:10:16.840Z', 'modifiedOn': '2023-06-19T16:10:16.840Z', 'createdBy': '3457532', 'modifiedBy': '3457532'}\n",
      "file is  {'name': 'Fragment_files', 'id': 'syn38984483', 'type': 'org.sagebionetworks.repo.model.Folder', 'versionNumber': 1, 'versionLabel': '1', 'isLatestVersion': True, 'benefactorId': 29543780, 'createdOn': '2022-10-05T01:26:27.712Z', 'modifiedOn': '2022-10-05T01:26:27.712Z', 'createdBy': '3457532', 'modifiedBy': '3457532'}\n",
      "file is  {'name': 'Metadata.csv', 'id': 'syn38984538', 'type': 'org.sagebionetworks.repo.model.FileEntity', 'versionNumber': 1, 'versionLabel': '1', 'isLatestVersion': True, 'benefactorId': 29543780, 'createdOn': '2022-10-05T01:27:19.727Z', 'modifiedOn': '2022-10-05T01:27:19.727Z', 'createdBy': '3457532', 'modifiedBy': '3457532'}\n",
      "file is  {'name': 'hg38_Peak_Calls', 'id': 'syn39257029', 'type': 'org.sagebionetworks.repo.model.Folder', 'versionNumber': 1, 'versionLabel': '1', 'isLatestVersion': True, 'benefactorId': 29543780, 'createdOn': '2022-10-07T18:14:09.885Z', 'modifiedOn': '2022-10-07T18:14:09.885Z', 'createdBy': '3457734', 'modifiedBy': '3457734'}\n",
      "file is  {'name': 'pseudobulk_count.rds', 'id': 'syn43852475', 'type': 'org.sagebionetworks.repo.model.FileEntity', 'versionNumber': 1, 'versionLabel': '1', 'isLatestVersion': True, 'benefactorId': 29543780, 'createdOn': '2022-11-05T18:10:21.770Z', 'modifiedOn': '2022-11-05T18:10:21.827Z', 'createdBy': '3457532', 'modifiedBy': '3457532'}\n",
      "file is  {'name': 'sc_atac.se.rds', 'id': 'syn43852493', 'type': 'org.sagebionetworks.repo.model.FileEntity', 'versionNumber': 1, 'versionLabel': '1', 'isLatestVersion': True, 'benefactorId': 29543780, 'createdOn': '2022-11-05T18:10:39.896Z', 'modifiedOn': '2022-11-05T18:10:40.216Z', 'createdBy': '3457532', 'modifiedBy': '3457532'}\n",
      "***file_data for dataset_id is syn38984091 are [['syn38984091', '20200916_hg38_extended_caQTLs_REcontext_and_SLE_haplos_annotated.xlsx', 'syn38985230', 1], ['syn38984091', '20220930_AFR_genotyping', 'syn50950107', 1], ['syn38984091', '20221111_AA_SLE_data', 'syn44671138', 1], ['syn38984091', '20230126_scRNA', 'syn50949540', 1], ['syn38984091', '20230427_caQTL', 'syn51397384', 1], ['syn38984091', '20230427_genotyping_AFR_EUR_combined', 'syn51397343', 1], ['syn38984091', '20230427_sciATAC_Fragment_Files_Donor_x_Celltype', 'syn51397454', 1], ['syn38984091', 'EA_sciATAC_data_hg19', 'syn38984384', 1], ['syn38984091', 'Footprinting', 'syn51728361', 1], ['syn38984091', 'Fragment_files', 'syn38984483', 1], ['syn38984091', 'Metadata.csv', 'syn38984538', 1], ['syn38984091', 'hg38_Peak_Calls', 'syn39257029', 1], ['syn38984091', 'pseudobulk_count.rds', 'syn43852475', 1], ['syn38984091', 'sc_atac.se.rds', 'syn43852493', 1]]\n",
      "add dataset data  syn38984091\n",
      "***dataset_id is syn38984091\n",
      "***files for dataset_id is syn38984091 are <generator object Synapse.getChildren at 0x7f6a2dce5cb0>\n",
      "file is  {'name': '20200916_hg38_extended_caQTLs_REcontext_and_SLE_haplos_annotated.xlsx', 'id': 'syn38985230', 'type': 'org.sagebionetworks.repo.model.FileEntity', 'versionNumber': 1, 'versionLabel': '1', 'isLatestVersion': True, 'benefactorId': 29543780, 'createdOn': '2022-10-05T01:32:00.431Z', 'modifiedOn': '2022-10-05T01:32:00.431Z', 'createdBy': '3457532', 'modifiedBy': '3457532'}\n",
      "file is  {'name': '20220930_AFR_genotyping', 'id': 'syn50950107', 'type': 'org.sagebionetworks.repo.model.Folder', 'versionNumber': 1, 'versionLabel': '1', 'isLatestVersion': True, 'benefactorId': 29543780, 'createdOn': '2023-01-26T22:05:27.836Z', 'modifiedOn': '2023-01-26T22:05:27.836Z', 'createdBy': '3457734', 'modifiedBy': '3457734'}\n",
      "file is  {'name': '20221111_AA_SLE_data', 'id': 'syn44671138', 'type': 'org.sagebionetworks.repo.model.Folder', 'versionNumber': 1, 'versionLabel': '1', 'isLatestVersion': True, 'benefactorId': 29543780, 'createdOn': '2022-11-11T16:04:01.765Z', 'modifiedOn': '2022-11-11T16:04:01.765Z', 'createdBy': '3457734', 'modifiedBy': '3457734'}\n",
      "file is  {'name': '20230126_scRNA', 'id': 'syn50949540', 'type': 'org.sagebionetworks.repo.model.Folder', 'versionNumber': 1, 'versionLabel': '1', 'isLatestVersion': True, 'benefactorId': 29543780, 'createdOn': '2023-01-26T21:32:07.209Z', 'modifiedOn': '2023-01-26T21:32:07.209Z', 'createdBy': '3457734', 'modifiedBy': '3457734'}\n",
      "file is  {'name': '20230427_caQTL', 'id': 'syn51397384', 'type': 'org.sagebionetworks.repo.model.Folder', 'versionNumber': 1, 'versionLabel': '1', 'isLatestVersion': True, 'benefactorId': 29543780, 'createdOn': '2023-04-27T18:39:09.438Z', 'modifiedOn': '2023-04-27T18:39:09.438Z', 'createdBy': '3457734', 'modifiedBy': '3457734'}\n",
      "file is  {'name': '20230427_genotyping_AFR_EUR_combined', 'id': 'syn51397343', 'type': 'org.sagebionetworks.repo.model.Folder', 'versionNumber': 1, 'versionLabel': '1', 'isLatestVersion': True, 'benefactorId': 29543780, 'createdOn': '2023-04-27T18:09:40.136Z', 'modifiedOn': '2023-04-27T18:09:40.136Z', 'createdBy': '3457734', 'modifiedBy': '3457734'}\n",
      "file is  {'name': '20230427_sciATAC_Fragment_Files_Donor_x_Celltype', 'id': 'syn51397454', 'type': 'org.sagebionetworks.repo.model.Folder', 'versionNumber': 1, 'versionLabel': '1', 'isLatestVersion': True, 'benefactorId': 29543780, 'createdOn': '2023-04-27T19:35:26.551Z', 'modifiedOn': '2023-04-27T19:35:26.551Z', 'createdBy': '3457734', 'modifiedBy': '3457734'}\n",
      "file is  {'name': 'EA_sciATAC_data_hg19', 'id': 'syn38984384', 'type': 'org.sagebionetworks.repo.model.Folder', 'versionNumber': 1, 'versionLabel': '1', 'isLatestVersion': True, 'benefactorId': 29543780, 'createdOn': '2022-10-05T01:24:54.219Z', 'modifiedOn': '2022-10-05T01:24:54.219Z', 'createdBy': '3457532', 'modifiedBy': '3457532'}\n",
      "file is  {'name': 'Footprinting', 'id': 'syn51728361', 'type': 'org.sagebionetworks.repo.model.Folder', 'versionNumber': 1, 'versionLabel': '1', 'isLatestVersion': True, 'benefactorId': 29543780, 'createdOn': '2023-06-19T16:10:16.840Z', 'modifiedOn': '2023-06-19T16:10:16.840Z', 'createdBy': '3457532', 'modifiedBy': '3457532'}\n",
      "file is  {'name': 'Fragment_files', 'id': 'syn38984483', 'type': 'org.sagebionetworks.repo.model.Folder', 'versionNumber': 1, 'versionLabel': '1', 'isLatestVersion': True, 'benefactorId': 29543780, 'createdOn': '2022-10-05T01:26:27.712Z', 'modifiedOn': '2022-10-05T01:26:27.712Z', 'createdBy': '3457532', 'modifiedBy': '3457532'}\n",
      "file is  {'name': 'Metadata.csv', 'id': 'syn38984538', 'type': 'org.sagebionetworks.repo.model.FileEntity', 'versionNumber': 1, 'versionLabel': '1', 'isLatestVersion': True, 'benefactorId': 29543780, 'createdOn': '2022-10-05T01:27:19.727Z', 'modifiedOn': '2022-10-05T01:27:19.727Z', 'createdBy': '3457532', 'modifiedBy': '3457532'}\n",
      "file is  {'name': 'hg38_Peak_Calls', 'id': 'syn39257029', 'type': 'org.sagebionetworks.repo.model.Folder', 'versionNumber': 1, 'versionLabel': '1', 'isLatestVersion': True, 'benefactorId': 29543780, 'createdOn': '2022-10-07T18:14:09.885Z', 'modifiedOn': '2022-10-07T18:14:09.885Z', 'createdBy': '3457734', 'modifiedBy': '3457734'}\n",
      "file is  {'name': 'pseudobulk_count.rds', 'id': 'syn43852475', 'type': 'org.sagebionetworks.repo.model.FileEntity', 'versionNumber': 1, 'versionLabel': '1', 'isLatestVersion': True, 'benefactorId': 29543780, 'createdOn': '2022-11-05T18:10:21.770Z', 'modifiedOn': '2022-11-05T18:10:21.827Z', 'createdBy': '3457532', 'modifiedBy': '3457532'}\n",
      "file is  {'name': 'sc_atac.se.rds', 'id': 'syn43852493', 'type': 'org.sagebionetworks.repo.model.FileEntity', 'versionNumber': 1, 'versionLabel': '1', 'isLatestVersion': True, 'benefactorId': 29543780, 'createdOn': '2022-11-05T18:10:39.896Z', 'modifiedOn': '2022-11-05T18:10:40.216Z', 'createdBy': '3457532', 'modifiedBy': '3457532'}\n",
      "***file_data for dataset_id is syn38984091 are [['syn38984091', '20200916_hg38_extended_caQTLs_REcontext_and_SLE_haplos_annotated.xlsx', 'syn38985230', 1], ['syn38984091', '20220930_AFR_genotyping', 'syn50950107', 1], ['syn38984091', '20221111_AA_SLE_data', 'syn44671138', 1], ['syn38984091', '20230126_scRNA', 'syn50949540', 1], ['syn38984091', '20230427_caQTL', 'syn51397384', 1], ['syn38984091', '20230427_genotyping_AFR_EUR_combined', 'syn51397343', 1], ['syn38984091', '20230427_sciATAC_Fragment_Files_Donor_x_Celltype', 'syn51397454', 1], ['syn38984091', 'EA_sciATAC_data_hg19', 'syn38984384', 1], ['syn38984091', 'Footprinting', 'syn51728361', 1], ['syn38984091', 'Fragment_files', 'syn38984483', 1], ['syn38984091', 'Metadata.csv', 'syn38984538', 1], ['syn38984091', 'hg38_Peak_Calls', 'syn39257029', 1], ['syn38984091', 'pseudobulk_count.rds', 'syn43852475', 1], ['syn38984091', 'sc_atac.se.rds', 'syn43852493', 1]]\n",
      "add dataset data  syn38984091\n",
      "***dataset_id is syn51704970\n",
      "***files for dataset_id is syn51704970 are <generator object Synapse.getChildren at 0x7f6a2dce5bd0>\n",
      "***file_data for dataset_id is syn51704970 are []\n",
      "add dataset data  syn51704970\n"
     ]
    }
   ],
   "source": [
    "# Initialize the list to store file data from all datasets\n",
    "all_file_data = []\n",
    "\n",
    "# Process each dataset\n",
    "for dataset_id in dataset_ids:\n",
    "    print(\"***dataset_id is\",dataset_id)\n",
    "    # Get the list of files in the dataset\n",
    "    files = syn.getChildren(dataset_id)\n",
    "    print(\"***files for dataset_id is {} are {}\".format(dataset_id,files))\n",
    "    # Extract the file names and other information for the current dataset\n",
    "    file_data = []\n",
    "    for file in files:\n",
    "        print('file is ',file)\n",
    "        file_name = file['name']\n",
    "        file_id = file['id']\n",
    "        file_version = file['versionNumber']\n",
    "        file_data.append([dataset_id,file_name, file_id, file_version])\n",
    "    \n",
    "    print(\"***file_data for dataset_id is {} are {}\".format(dataset_id,file_data))\n",
    "    # Append the file data from the current dataset to the consolidated list\n",
    "    print(\"add dataset data \",dataset_id)\n",
    "    all_file_data.extend(file_data)\n"
   ]
  },
  {
   "cell_type": "code",
   "execution_count": null,
   "id": "4fc33494-da6e-4371-9e2a-73a2c64a68f9",
   "metadata": {},
   "outputs": [],
   "source": [
    "# Define the path and name of the TSV file\n",
    "tsv_file_path = \"synpase_files.tsv\"\n",
    "os.remove(tsv_file_path) # creates a new one everytime\n",
    "\n",
    "# Write the consolidated file data to the TSV file\n",
    "with open(tsv_file_path, 'w', newline='') as tsv_file:\n",
    "    writer = csv.writer(tsv_file, delimiter='\\t')\n",
    "    writer.writerow(['Dataset Id','File Name', 'File ID', 'File Version'])\n",
    "    writer.writerows(all_file_data)\n",
    "\n",
    "print(\"TSV file created successfully.\")\n"
   ]
  },
  {
   "cell_type": "markdown",
   "id": "a0560199-aac9-4f1e-b722-e36bd2ee7e3d",
   "metadata": {},
   "source": [
    "# install seqspec\n",
    "!pip install git+https://github.com/IGVF/seqspec.git"
   ]
  },
  {
   "cell_type": "code",
   "execution_count": 20,
   "id": "5cc165b2-c083-4620-a496-3ccd28305da0",
   "metadata": {},
   "outputs": [
    {
     "name": "stdout",
     "output_type": "stream",
     "text": [
      "usage: seqspec [-h] <CMD> ...\n",
      "\n",
      "seqspec 0.0.0: Format sequence specification files\n",
      "\n",
      "positional arguments:\n",
      "  <CMD>\n",
      "    check     validate seqspec file\n",
      "    find      find regions in a seqspec file\n",
      "    format    format seqspec file\n",
      "    index     index regions in a seqspec file\n",
      "    init      init a seqspec file\n",
      "    onlist    get onlist file for specific regions\n",
      "    print     print seqspec file\n",
      "    split     split regions in a seqspec file\n",
      "\n",
      "options:\n",
      "  -h, --help  show this help message and exit\n"
     ]
    }
   ],
   "source": [
    "# check that is was installed\n",
    "!seqspec"
   ]
  },
  {
   "cell_type": "code",
   "execution_count": 31,
   "id": "4ec27d2a-d132-4b3b-b733-9856e22f91a6",
   "metadata": {},
   "outputs": [],
   "source": [
    "seqspecs_file1 = \"seqspec-jamboree.yaml\" "
   ]
  },
  {
   "cell_type": "code",
   "execution_count": 32,
   "id": "95b33a88-8b53-4ee2-b5fa-132da6fc2115",
   "metadata": {},
   "outputs": [
    {
     "name": "stdout",
     "output_type": "stream",
     "text": [
      "                                                ┌─'rna_illumina_p5:29'\n",
      "                                                ├─rna_I2.fastq.gz────── ──'rna_index5:8'\n",
      "                                                │                       ┌─'rna_s5:14'\n",
      "                                                ├─rna_nextera_read1─────┤\n",
      "                                                │                       └─'rna_ME1:19'\n",
      "                                                ├─rna_R1.fastq.gz────── ──'rna_cDNA:30'\n",
      "                                                │                       ┌─'rna_poly_A:99'\n",
      "                                                ├─rna_R2.fastq.gz───────┤\n",
      "                                                │                       └─'rna_umi:10'\n",
      "                                                │                       ┌─'rna_ME2:19'\n",
      "                        ┌─rna───────────────────┼─rna_nextera_read2─────┤\n",
      "                        │                       │                       └─'rna_s7:15'\n",
      "                        │                       │                       ┌─'rna_linker1:15'\n",
      "                        │                       │                       ├─'rna_bc1:8'\n",
      "                        │                       │                       ├─'rna_linker2:30'\n",
      "                        │                       ├─rna_I1.fastq.gz───────┤\n",
      "                        │                       │                       ├─'rna_bc2:8'\n",
      "                        │                       │                       ├─'rna_linker3:30'\n",
      "                        │                       │                       └─'rna_bc3:8'\n",
      "────────────────────────┤                       └─'rna_illumina_p7:24'\n",
      "                        │                       ┌─'atac_illumina_p5:29'\n",
      "                        │                       ├─atac_I2.fastq.gz───── ──'atac_index5:8'\n",
      "                        │                       │                       ┌─'atac_s5:14'\n",
      "                        │                       ├─atac_nextera_read1────┤\n",
      "                        │                       │                       └─'atac_ME1:19'\n",
      "                        │                       ├─atac_R1.fastq.gz───── ──'atac_gDNA-1:30'\n",
      "                        │                       ├─atac_R2.fastq.gz───── ──'atac_gDNA-2:30'\n",
      "                        │                       │                       ┌─'atac_ME2:19'\n",
      "                        │                       ├─atac_nextera_read2────┤\n",
      "                        └─atac──────────────────┤                       └─'atac_s7:15'\n",
      "                                                │                       ┌─'atac_linker1:15'\n",
      "                                                │                       ├─'atac_bc1:8'\n",
      "                                                │                       ├─'atac_linker2:30'\n",
      "                                                ├─atac_I1.fastq.gz──────┤\n",
      "                                                │                       ├─'atac_bc2:8'\n",
      "                                                │                       ├─'atac_linker3:30'\n",
      "                                                │                       └─'atac_bc3:8'\n",
      "                                                └─'atac_illumina_p7:24'\n"
     ]
    }
   ],
   "source": [
    "!seqspec print $seqspecs_file1"
   ]
  },
  {
   "cell_type": "code",
   "execution_count": 28,
   "id": "8a76cf30-4349-4357-92a4-f8ea724cc4d3",
   "metadata": {},
   "outputs": [
    {
     "name": "stdout",
     "output_type": "stream",
     "text": [
      "                                                  ┌─'ATAC-R1.fastq.gz:50'\n",
      "                         ┌─ATAC───────────────────┤                        ┌─'ATAC-read2:50'\n",
      "                         │                        │                        │                        ┌─'linker1:15'\n",
      "                         │                        └─ATAC-R2.fastq.gz───────┤                        │\n",
      "                         │                                                 │                        ├─'atac-cell-barcode1:8'\n",
      "                         │                                                 │                        ├─'linker2:30'\n",
      "                         │                                                 └─ATAC-raw-cell-barcode──┤\n",
      "─────────────────────────┤                                                                          ├─'atac-cell-barcode2:8'\n",
      "                         │                                                                          ├─'linker3:30'\n",
      "                         │                                                                          └─'atac-cell-barcode3:8'\n",
      "                         │                        ┌─'RNA-R1.fastq.gz:50'\n",
      "                         │                        │                        ┌─'UMI:10'\n",
      "                         └─RNA────────────────────┤                        │\n",
      "                                                  │                        ├─'poly_A:40'\n",
      "                                                  └─RNA-R2.fastq.gz────────┤                        ┌─'linker1:15'\n",
      "                                                                           │                        ├─'rna-cell-barcode1:8'\n",
      "                                                                           │                        ├─'linker2:30'\n",
      "                                                                           └─RNA-raw-cell-barcode───┤\n",
      "                                                                                                    ├─'rna-cell-barcode2:8'\n",
      "                                                                                                    ├─'linker3:30'\n",
      "                                                                                                    └─'rna-cell-barcode3:8'\n"
     ]
    }
   ],
   "source": [
    "!seqspec print broad_human_jamboree_test_spec.yaml"
   ]
  },
  {
   "cell_type": "code",
   "execution_count": null,
   "id": "96c91611-f4b0-4250-83cc-6b3c736afb90",
   "metadata": {},
   "outputs": [],
   "source": []
  }
 ],
 "metadata": {
  "kernelspec": {
   "display_name": "Python 3 (ipykernel)",
   "language": "python",
   "name": "python3"
  },
  "language_info": {
   "codemirror_mode": {
    "name": "ipython",
    "version": 3
   },
   "file_extension": ".py",
   "mimetype": "text/x-python",
   "name": "python",
   "nbconvert_exporter": "python",
   "pygments_lexer": "ipython3",
   "version": "3.10.11"
  }
 },
 "nbformat": 4,
 "nbformat_minor": 5
}
