{
 "cells": [
  {
   "cell_type": "markdown",
   "id": "95f6f713-b774-4443-9d42-6499fc7fc64e",
   "metadata": {},
   "source": [
    "install synapse client\n",
    "- conda install -c bioconda synapseclient\n",
    "if import fires error, install\n",
    "- pip install synapseclient\n"
   ]
  },
  {
   "cell_type": "code",
   "execution_count": 16,
   "id": "864aa937-088f-46f6-8ae1-88f5756419e8",
   "metadata": {},
   "outputs": [],
   "source": [
    "import os\n",
    "# https://python-docs.synapse.org/build/html/Credentials.html#use-synapseconfig\n",
    "os.environ['SYNAPSE_AUTH_TOKEN']='USE YOUR TOKEN'"
   ]
  },
  {
   "cell_type": "code",
   "execution_count": 17,
   "id": "41b71431-a6c1-4433-a924-04060f4aab77",
   "metadata": {},
   "outputs": [
    {
     "name": "stdout",
     "output_type": "stream",
     "text": [
      "Welcome, eila!\n",
      "\n"
     ]
    }
   ],
   "source": [
    "import synapseclient\n",
    "import synapseutils\n",
    "import os\n",
    "import csv\n",
    "\n",
    "token = os.environ.get('SYNAPSE_AUTH_TOKEN')\n",
    "\n",
    "import synapseclient\n",
    "syn = synapseclient.login(authToken=token)"
   ]
  },
  {
   "cell_type": "code",
   "execution_count": 18,
   "id": "04955724-6d20-4546-baee-e58c873ed6e8",
   "metadata": {},
   "outputs": [],
   "source": [
    "# Specify the list of dataset IDs\n",
    "\n",
    "dataset_ids = [\"syn51426057\",\"syn51704970\",\"syn51704970\",\"syn51704970\",\"syn51704970\",\"syn51704970\",\"syn38984091\",\"syn38984091\",\"syn51704970\"]\n"
   ]
  },
  {
   "cell_type": "code",
   "execution_count": 19,
   "id": "b7469f41-a5ba-4b2c-8fa7-dc22548a7c81",
   "metadata": {},
   "outputs": [
    {
     "name": "stdout",
     "output_type": "stream",
     "text": [
      "dataset_id is syn51426057\n",
      "dataset_id is syn51704970\n",
      "dataset_id is syn51704970\n",
      "dataset_id is syn51704970\n",
      "dataset_id is syn51704970\n",
      "dataset_id is syn51704970\n",
      "dataset_id is syn38984091\n",
      "dataset_id is syn38984091\n",
      "dataset_id is syn51704970\n",
      "TSV file created successfully.\n"
     ]
    }
   ],
   "source": [
    "# Initialize the list to store file data from all datasets\n",
    "all_file_data = []\n",
    "\n",
    "# Process each dataset\n",
    "for dataset_id in dataset_ids:\n",
    "    print(\"dataset_id is\",dataset_id)\n",
    "    # Get the list of files in the dataset\n",
    "    files = syn.getChildren(dataset_id)\n",
    "\n",
    "    # Extract the file names and other information for the current dataset\n",
    "    file_data = []\n",
    "    for file in files:\n",
    "        dataset_id = dataset_id\n",
    "        file_name = file['name']\n",
    "        file_id = file['id']\n",
    "        file_version = file['versionNumber']\n",
    "        file_data.append([dataset_id,file_name, file_id, file_version])\n",
    "\n",
    "    # Append the file data from the current dataset to the consolidated list\n",
    "    all_file_data.extend(file_data)\n",
    "\n",
    "# Define the path and name of the TSV file\n",
    "tsv_file_path = \"synpase_files.tsv\"\n",
    "os.remove(tsv_file_path) # creates a new one everytime\n",
    "\n",
    "# Write the consolidated file data to the TSV file\n",
    "with open(tsv_file_path, 'w', newline='') as tsv_file:\n",
    "    writer = csv.writer(tsv_file, delimiter='\\t')\n",
    "    writer.writerow(['Dataset Id','File Name', 'File ID', 'File Version'])\n",
    "    writer.writerows(all_file_data)\n",
    "\n",
    "print(\"TSV file created successfully.\")\n"
   ]
  },
  {
   "cell_type": "markdown",
   "id": "a0560199-aac9-4f1e-b722-e36bd2ee7e3d",
   "metadata": {},
   "source": [
    "# !pip install git+https://github.com/IGVF/seqspec.git"
   ]
  },
  {
   "cell_type": "code",
   "execution_count": 20,
   "id": "5cc165b2-c083-4620-a496-3ccd28305da0",
   "metadata": {},
   "outputs": [
    {
     "name": "stdout",
     "output_type": "stream",
     "text": [
      "usage: seqspec [-h] <CMD> ...\n",
      "\n",
      "seqspec 0.0.0: Format sequence specification files\n",
      "\n",
      "positional arguments:\n",
      "  <CMD>\n",
      "    check     validate seqspec file\n",
      "    find      find regions in a seqspec file\n",
      "    format    format seqspec file\n",
      "    index     index regions in a seqspec file\n",
      "    init      init a seqspec file\n",
      "    onlist    get onlist file for specific regions\n",
      "    print     print seqspec file\n",
      "    split     split regions in a seqspec file\n",
      "\n",
      "options:\n",
      "  -h, --help  show this help message and exit\n"
     ]
    }
   ],
   "source": [
    "# check that is was installed\n",
    "!seqspec"
   ]
  },
  {
   "cell_type": "code",
   "execution_count": 21,
   "id": "4ec27d2a-d132-4b3b-b733-9856e22f91a6",
   "metadata": {},
   "outputs": [],
   "source": [
    "seqspecs_files = \"seqspec-jamboree.yaml\" "
   ]
  },
  {
   "cell_type": "code",
   "execution_count": 22,
   "id": "95b33a88-8b53-4ee2-b5fa-132da6fc2115",
   "metadata": {},
   "outputs": [
    {
     "name": "stdout",
     "output_type": "stream",
     "text": [
      "                                                ┌─'rna_illumina_p5:29'\n",
      "                                                ├─rna_I2.fastq.gz────── ──'rna_index5:8'\n",
      "                                                │                       ┌─'rna_s5:14'\n",
      "                                                ├─rna_nextera_read1─────┤\n",
      "                                                │                       └─'rna_ME1:19'\n",
      "                                                ├─rna_R1.fastq.gz────── ──'rna_cDNA:30'\n",
      "                                                │                       ┌─'rna_poly_A:99'\n",
      "                                                ├─rna_R2.fastq.gz───────┤\n",
      "                                                │                       └─'rna_umi:10'\n",
      "                                                │                       ┌─'rna_ME2:19'\n",
      "                        ┌─rna───────────────────┼─rna_nextera_read2─────┤\n",
      "                        │                       │                       └─'rna_s7:15'\n",
      "                        │                       │                       ┌─'rna_linker1:15'\n",
      "                        │                       │                       ├─'rna_bc1:8'\n",
      "                        │                       │                       ├─'rna_linker2:30'\n",
      "                        │                       ├─rna_I1.fastq.gz───────┤\n",
      "                        │                       │                       ├─'rna_bc2:8'\n",
      "                        │                       │                       ├─'rna_linker3:30'\n",
      "                        │                       │                       └─'rna_bc3:8'\n",
      "────────────────────────┤                       └─'rna_illumina_p7:24'\n",
      "                        │                       ┌─'atac_illumina_p5:29'\n",
      "                        │                       ├─atac_I2.fastq.gz───── ──'atac_index5:8'\n",
      "                        │                       │                       ┌─'atac_s5:14'\n",
      "                        │                       ├─atac_nextera_read1────┤\n",
      "                        │                       │                       └─'atac_ME1:19'\n",
      "                        │                       ├─atac_R1.fastq.gz───── ──'atac_gDNA-1:30'\n",
      "                        │                       ├─atac_R2.fastq.gz───── ──'atac_gDNA-2:30'\n",
      "                        │                       │                       ┌─'atac_ME2:19'\n",
      "                        │                       ├─atac_nextera_read2────┤\n",
      "                        └─atac──────────────────┤                       └─'atac_s7:15'\n",
      "                                                │                       ┌─'atac_linker1:15'\n",
      "                                                │                       ├─'atac_bc1:8'\n",
      "                                                │                       ├─'atac_linker2:30'\n",
      "                                                ├─atac_I1.fastq.gz──────┤\n",
      "                                                │                       ├─'atac_bc2:8'\n",
      "                                                │                       ├─'atac_linker3:30'\n",
      "                                                │                       └─'atac_bc3:8'\n",
      "                                                └─'atac_illumina_p7:24'\n"
     ]
    }
   ],
   "source": [
    "!seqspec print $seqspecs_files"
   ]
  },
  {
   "cell_type": "code",
   "execution_count": null,
   "id": "8a76cf30-4349-4357-92a4-f8ea724cc4d3",
   "metadata": {},
   "outputs": [],
   "source": []
  }
 ],
 "metadata": {
  "kernelspec": {
   "display_name": "Python 3 (ipykernel)",
   "language": "python",
   "name": "python3"
  },
  "language_info": {
   "codemirror_mode": {
    "name": "ipython",
    "version": 3
   },
   "file_extension": ".py",
   "mimetype": "text/x-python",
   "name": "python",
   "nbconvert_exporter": "python",
   "pygments_lexer": "ipython3",
   "version": "3.10.11"
  }
 },
 "nbformat": 4,
 "nbformat_minor": 5
}
